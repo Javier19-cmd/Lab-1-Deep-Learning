{
 "cells": [
  {
   "cell_type": "markdown",
   "metadata": {},
   "source": [
    "### Implementación NN."
   ]
  },
  {
   "cell_type": "code",
   "execution_count": 51,
   "metadata": {},
   "outputs": [],
   "source": [
    "import numpy as np"
   ]
  },
  {
   "cell_type": "code",
   "execution_count": 52,
   "metadata": {},
   "outputs": [],
   "source": [
    "# Función sigmoide.\n",
    "\n",
    "def sigmoid(z):\n",
    "    return 1 / (1 + np.exp(-z))"
   ]
  },
  {
   "cell_type": "code",
   "execution_count": 53,
   "metadata": {},
   "outputs": [],
   "source": [
    "def initialize_parameters(n_x, n_h, ny):\n",
    "    # n_x: input nodes\n",
    "    # n_h: hidden layer nodes\n",
    "    # ny: output nodes\n",
    "\n",
    "    W1 = np.random.randn(n_h, n_x)\n",
    "    b1 = np.zeros((n_h, 1))\n",
    "    W2 = np.random.randn(ny, n_h)\n",
    "    b2 = np.zeros((ny, 1))\n",
    "\n",
    "    parameters = {\"W1\": W1,\n",
    "                  \"b1\": b1,\n",
    "                  \"W2\": W2,\n",
    "                  \"b2\": b2}\n",
    "\n",
    "    return parameters"
   ]
  },
  {
   "cell_type": "code",
   "execution_count": 54,
   "metadata": {},
   "outputs": [],
   "source": [
    "def forward_prop(X, parameters):\n",
    "    # Desempaqueta los parámetros del diccionario\n",
    "    W1 = parameters[\"W1\"]\n",
    "    b1 = parameters[\"b1\"]\n",
    "    W2 = parameters[\"W2\"]\n",
    "    b2 = parameters[\"b2\"]\n",
    "\n",
    "    # Realiza la propagación hacia adelante\n",
    "    Z1 = np.dot(W1, X) + b1\n",
    "    A1 = np.tanh(Z1)\n",
    "    Z2 = np.dot(W2, A1) + b2\n",
    "    A2 = sigmoid(Z2)\n",
    "\n",
    "    # Guarda los resultados en un diccionario\n",
    "    cache = {\n",
    "             \"A1\": A1,\n",
    "             \"A2\": A2}\n",
    "\n",
    "    return A2, cache"
   ]
  },
  {
   "cell_type": "code",
   "execution_count": 55,
   "metadata": {},
   "outputs": [],
   "source": [
    "def calculate_cost(A2, Y):\n",
    "    m = Y.shape[1]  # Número de ejemplos de entrenamiento\n",
    "\n",
    "    # Calcula el costo\n",
    "    logprobs = np.multiply(Y, np.log(A2)) + np.multiply(1 - Y, np.log(1 - A2))\n",
    "    cost = -np.sum(logprobs) / m\n",
    "\n",
    "    cost = np.squeeze(cost)  # Asegura que el costo sea un número y no una matriz de un solo elemento\n",
    "\n",
    "    return cost\n"
   ]
  },
  {
   "cell_type": "code",
   "execution_count": 56,
   "metadata": {},
   "outputs": [],
   "source": [
    "def backward_prop(X, Y, cache, parameters):\n",
    "    m = X.shape[1]  # Número de ejemplos de entrenamiento\n",
    "\n",
    "    # Desempaqueta los parámetros y la cache\n",
    "    W1 = parameters[\"W1\"]\n",
    "    W2 = parameters[\"W2\"]\n",
    "    A1 = cache[\"A1\"]\n",
    "    A2 = cache[\"A2\"]\n",
    "\n",
    "    # Calcula los gradientes\n",
    "    dZ2 = A2 - Y\n",
    "    dW2 = np.dot(dZ2, A1.T) / m\n",
    "    db2 = np.sum(dZ2, axis=1, keepdims=True) / m\n",
    "    dZ1 = np.dot(W2.T, dZ2) * (1 - np.power(A1, 2))\n",
    "    dW1 = np.dot(dZ1, X.T) / m\n",
    "    db1 = np.sum(dZ1, axis=1, keepdims=True) / m\n",
    "\n",
    "    # Guarda los gradientes en un diccionario\n",
    "    gradients = {\"dW1\": dW1,\n",
    "                 \"db1\": db1,\n",
    "                 \"dW2\": dW2,\n",
    "                 \"db2\": db2}\n",
    "\n",
    "    return gradients\n"
   ]
  },
  {
   "cell_type": "code",
   "execution_count": 57,
   "metadata": {},
   "outputs": [],
   "source": [
    "def update_parameters(parameters, grads, learning_rate):\n",
    "    # Desempaqueta los parámetros y los gradientes\n",
    "    W1 = parameters[\"W1\"]\n",
    "    b1 = parameters[\"b1\"]\n",
    "    W2 = parameters[\"W2\"]\n",
    "    b2 = parameters[\"b2\"]\n",
    "\n",
    "    dW1 = grads[\"dW1\"]\n",
    "    db1 = grads[\"db1\"]\n",
    "    dW2 = grads[\"dW2\"]\n",
    "    db2 = grads[\"db2\"]\n",
    "\n",
    "    # Actualiza los parámetros\n",
    "    W1 -= learning_rate * dW1\n",
    "    b1 -= learning_rate * db1\n",
    "    W2 -= learning_rate * dW2\n",
    "    b2 -= learning_rate * db2\n",
    "\n",
    "    # Guarda los parámetros actualizados en un nuevo diccionario\n",
    "    updated_parameters = {\"W1\": W1,\n",
    "                          \"b1\": b1,\n",
    "                          \"W2\": W2,\n",
    "                          \"b2\": b2}\n",
    "\n",
    "    return updated_parameters\n"
   ]
  },
  {
   "cell_type": "code",
   "execution_count": 58,
   "metadata": {},
   "outputs": [],
   "source": [
    "def model(X, Y, n_x, n_h, n_y, num_of_iters, learning_rate):\n",
    "    # Inicializa los parámetros\n",
    "    parameters = initialize_parameters(n_x, n_h, n_y)\n",
    "\n",
    "    for i in range(0, num_of_iters):\n",
    "        # Propagación hacia adelante\n",
    "        A2, cache = forward_prop(X, parameters)\n",
    "\n",
    "        # Cálculo del costo\n",
    "        cost = calculate_cost(A2, Y)\n",
    "\n",
    "        # Retropropagación\n",
    "        grads = backward_prop(X, Y, cache, parameters)\n",
    "\n",
    "        # Actualización de los parámetros\n",
    "        parameters = update_parameters(parameters, grads, learning_rate)\n",
    "\n",
    "        # Imprime el costo cada 1000 iteraciones\n",
    "        if i % 1000 == 0:\n",
    "            print(\"Costo después de la iteración %i: %f\" % (i, cost))\n",
    "\n",
    "    return parameters"
   ]
  },
  {
   "cell_type": "code",
   "execution_count": 59,
   "metadata": {},
   "outputs": [],
   "source": [
    "def predict(X, parameters):\n",
    "    # Propagación hacia adelante\n",
    "    A2, _ = forward_prop(X, parameters)\n",
    "\n",
    "    # Redondea las predicciones a 0 o 1\n",
    "    predictions = np.round(A2)\n",
    "\n",
    "    return predictions"
   ]
  },
  {
   "cell_type": "code",
   "execution_count": 60,
   "metadata": {},
   "outputs": [
    {
     "name": "stdout",
     "output_type": "stream",
     "text": [
      "A2:  [[0.5        0.1841866  0.70688886 0.25396255]]\n",
      "Cache:  {'A1': array([[ 0.        , -0.49349726,  0.37107973, -0.14986113],\n",
      "       [ 0.        ,  0.97556971, -0.49175867,  0.92994958]]), 'A2': array([[0.5       , 0.1841866 , 0.70688886, 0.25396255]])}\n",
      "Costo:  0.7562035950462909\n",
      "Gradientes:  {'dW1': array([[ 0.00178284,  0.1464435 ],\n",
      "       [-0.01697244, -0.00045526]]), 'db1': array([[0.04828414],\n",
      "       [0.02463562]]), 'dW2': array([[ 0.06394374, -0.10389263]]), 'db2': array([[-0.0887405]])}\n",
      "Parámetros:  {'W1': array([[-0.90862491,  0.80775446],\n",
      "       [-0.71390236, -0.42968812]]), 'b1': array([[-0.00482841],\n",
      "       [-0.00246356]]), 'W2': array([[-1.77096318, -0.6235716 ]]), 'b2': array([[0.00887405]])}\n",
      "Costo después de la iteración 0: 0.723314\n",
      "Costo después de la iteración 1000: 0.366672\n"
     ]
    },
    {
     "name": "stdout",
     "output_type": "stream",
     "text": [
      "Costo después de la iteración 2000: 0.355425\n",
      "Costo después de la iteración 3000: 0.352136\n",
      "Costo después de la iteración 4000: 0.350597\n",
      "Costo después de la iteración 5000: 0.349712\n",
      "Costo después de la iteración 6000: 0.349140\n",
      "Costo después de la iteración 7000: 0.348741\n",
      "Costo después de la iteración 8000: 0.348447\n",
      "Costo después de la iteración 9000: 0.348222\n",
      "Predicciones:  [[0. 1. 0. 1.]]\n"
     ]
    }
   ],
   "source": [
    "# Main body.\n",
    "\n",
    "# # Haciendo los parámetors.\n",
    "# parameters = initialize_parameters(5, 4, 2)\n",
    "# print(parameters)\n",
    "\n",
    "# X = np.random.randn(5, 10)\n",
    "\n",
    "# A2, cache = forward_prop(X, parameters)\n",
    "\n",
    "# # Calculando el A2 y el caché.\n",
    "# print(\"A2: \", A2)\n",
    "# print(\"Cache: \", cache)\n",
    "  \n",
    "# # Calculando el costo.\n",
    "# cost = calculate_cost(A2, np.random.randn(2, 15))\n",
    "\n",
    "# print(\"Costo: \", cost)\n",
    "\n",
    "X = np.array([ [0, 0, 1, 1], [0, 1, 0, 1]])\n",
    "\n",
    "A2, cache = forward_prop(X, initialize_parameters(2, 2, 1))\n",
    "\n",
    "print(\"A2: \", A2)\n",
    "print(\"Cache: \", cache)\n",
    "\n",
    "cost = calculate_cost(A2, np.array([[0, 1, 1, 0]]))\n",
    "\n",
    "print(\"Costo: \", cost)\n",
    "\n",
    "grads = backward_prop(X, np.array([[0, 1, 1, 0]]), cache, initialize_parameters(2, 2, 1))\n",
    "\n",
    "print(\"Gradientes: \", grads)\n",
    "\n",
    "parameters = update_parameters(initialize_parameters(2, 2, 1), grads, 0.1)\n",
    "\n",
    "print(\"Parámetros: \", parameters)\n",
    "\n",
    "parameters = model(X, np.array([[0, 1, 1, 0]]), 2, 2, 1, 10000, 0.1)\n",
    "\n",
    "print(\"Predicciones: \", predict(X, parameters))"
   ]
  }
 ],
 "metadata": {
  "kernelspec": {
   "display_name": "Python 3",
   "language": "python",
   "name": "python3"
  },
  "language_info": {
   "codemirror_mode": {
    "name": "ipython",
    "version": 3
   },
   "file_extension": ".py",
   "mimetype": "text/x-python",
   "name": "python",
   "nbconvert_exporter": "python",
   "pygments_lexer": "ipython3",
   "version": "3.11.3"
  },
  "orig_nbformat": 4
 },
 "nbformat": 4,
 "nbformat_minor": 2
}
