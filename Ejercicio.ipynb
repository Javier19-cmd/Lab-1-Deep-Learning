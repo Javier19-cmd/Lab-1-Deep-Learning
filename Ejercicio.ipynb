{
 "cells": [
  {
   "cell_type": "markdown",
   "metadata": {},
   "source": [
    "### Implementación NN."
   ]
  },
  {
   "cell_type": "code",
   "execution_count": 1,
   "metadata": {},
   "outputs": [],
   "source": [
    "import numpy as np"
   ]
  },
  {
   "cell_type": "code",
   "execution_count": 2,
   "metadata": {},
   "outputs": [],
   "source": [
    "# Función sigmoide.\n",
    "\n",
    "def sigmoid(z):\n",
    "    return 1 / (1 + np.exp(-z))"
   ]
  },
  {
   "cell_type": "code",
   "execution_count": 3,
   "metadata": {},
   "outputs": [],
   "source": [
    "def initialize_parameters(n_x, n_h, ny):\n",
    "    # n_x: input nodes\n",
    "    # n_h: hidden layer nodes\n",
    "    # ny: output nodes\n",
    "\n",
    "    W1 = np.random.randn(n_h, n_x)\n",
    "    b1 = np.zeros((n_h, 1))\n",
    "    W2 = np.random.randn(ny, n_h)\n",
    "    b2 = np.zeros((ny, 1))\n",
    "\n",
    "    parameters = {\"W1\": W1,\n",
    "                  \"b1\": b1,\n",
    "                  \"W2\": W2,\n",
    "                  \"b2\": b2}\n",
    "\n",
    "    return parameters"
   ]
  },
  {
   "cell_type": "code",
   "execution_count": 15,
   "metadata": {},
   "outputs": [],
   "source": [
    "def forward_prop(X, parameters):\n",
    "    # Desempaqueta los parámetros del diccionario\n",
    "    W1 = parameters[\"W1\"]\n",
    "    b1 = parameters[\"b1\"]\n",
    "    W2 = parameters[\"W2\"]\n",
    "    b2 = parameters[\"b2\"]\n",
    "\n",
    "    # Realiza la propagación hacia adelante\n",
    "    Z1 = np.dot(W1, X) + b1\n",
    "    A1 = np.tanh(Z1)\n",
    "    Z2 = np.dot(W2, A1) + b2\n",
    "    A2 = sigmoid(Z2)\n",
    "\n",
    "    # Guarda los resultados en un diccionario\n",
    "    cache = {\n",
    "             \"A1\": A1,\n",
    "             \"A2\": A2}\n",
    "\n",
    "    return A2, cache"
   ]
  },
  {
   "cell_type": "code",
   "execution_count": 5,
   "metadata": {},
   "outputs": [],
   "source": [
    "def calculate_cost(A2, Y):\n",
    "    m = Y.shape[1]  # Número de ejemplos de entrenamiento\n",
    "\n",
    "    # Calcula el costo\n",
    "    logprobs = np.multiply(Y, np.log(A2)) + np.multiply(1 - Y, np.log(1 - A2))\n",
    "    cost = -np.sum(logprobs) / m\n",
    "\n",
    "    cost = np.squeeze(cost)  # Asegura que el costo sea un número y no una matriz de un solo elemento\n",
    "\n",
    "    return cost\n"
   ]
  },
  {
   "cell_type": "code",
   "execution_count": 6,
   "metadata": {},
   "outputs": [],
   "source": [
    "def backward_prop(X, Y, cache, parameters):\n",
    "    m = X.shape[1]  # Número de ejemplos de entrenamiento\n",
    "\n",
    "    # Desempaqueta los parámetros y la cache\n",
    "    W1 = parameters[\"W1\"]\n",
    "    W2 = parameters[\"W2\"]\n",
    "    A1 = cache[\"A1\"]\n",
    "    A2 = cache[\"A2\"]\n",
    "\n",
    "    # Calcula los gradientes\n",
    "    dZ2 = A2 - Y\n",
    "    dW2 = np.dot(dZ2, A1.T) / m\n",
    "    db2 = np.sum(dZ2, axis=1, keepdims=True) / m\n",
    "    dZ1 = np.dot(W2.T, dZ2) * (1 - np.power(A1, 2))\n",
    "    dW1 = np.dot(dZ1, X.T) / m\n",
    "    db1 = np.sum(dZ1, axis=1, keepdims=True) / m\n",
    "\n",
    "    # Guarda los gradientes en un diccionario\n",
    "    gradients = {\"dW1\": dW1,\n",
    "                 \"db1\": db1,\n",
    "                 \"dW2\": dW2,\n",
    "                 \"db2\": db2}\n",
    "\n",
    "    return gradients\n"
   ]
  },
  {
   "cell_type": "code",
   "execution_count": 7,
   "metadata": {},
   "outputs": [],
   "source": [
    "def update_parameters(parameters, grads, learning_rate):\n",
    "    pass"
   ]
  },
  {
   "cell_type": "code",
   "execution_count": 8,
   "metadata": {},
   "outputs": [],
   "source": [
    "def model(X, Y, n_x, n_h, n_y, num_of_iters, learning_rate):\n",
    "    pass"
   ]
  },
  {
   "cell_type": "code",
   "execution_count": 9,
   "metadata": {},
   "outputs": [],
   "source": [
    "def predict(X, parameters):\n",
    "    pass"
   ]
  },
  {
   "cell_type": "code",
   "execution_count": 33,
   "metadata": {},
   "outputs": [
    {
     "name": "stdout",
     "output_type": "stream",
     "text": [
      "[[0.5        0.34275858 0.71341213 0.61670115]] {'Z1': array([[ 0.        , -0.82560778,  0.68094839, -0.14465939],\n",
      "       [ 0.        , -0.56399281,  1.34848715,  0.78449435]]), 'A1': array([[ 0.        , -0.67811054,  0.5921356 , -0.1436587 ],\n",
      "       [ 0.        , -0.51093392,  0.87369574,  0.65527878]]), 'Z2': array([[ 0.        , -0.65102505,  0.91201408,  0.47556956]]), 'A2': array([[0.5       , 0.34275858, 0.71341213, 0.61670115]])}\n",
      "A2:  [[0.5        0.34275858 0.71341213 0.61670115]]\n",
      "Cache:  {'Z1': array([[ 0.        , -0.82560778,  0.68094839, -0.14465939],\n",
      "       [ 0.        , -0.56399281,  1.34848715,  0.78449435]]), 'A1': array([[ 0.        , -0.67811054,  0.5921356 , -0.1436587 ],\n",
      "       [ 0.        , -0.51093392,  0.87369574,  0.65527878]]), 'Z2': array([[ 0.        , -0.65102505,  0.91201408,  0.47556956]]), 'A2': array([[0.5       , 0.34275858, 0.71341213, 0.61670115]])}\n"
     ]
    }
   ],
   "source": [
    "# Main body.\n",
    "\n",
    "# # Haciendo los parámetors.\n",
    "# parameters = initialize_parameters(5, 4, 2)\n",
    "# print(parameters)\n",
    "\n",
    "# X = np.random.randn(5, 10)\n",
    "\n",
    "# A2, cache = forward_prop(X, parameters)\n",
    "\n",
    "# # Calculando el A2 y el caché.\n",
    "# print(\"A2: \", A2)\n",
    "# print(\"Cache: \", cache)\n",
    "  \n",
    "# # Calculando el costo.\n",
    "# cost = calculate_cost(A2, np.random.randn(2, 15))\n",
    "\n",
    "# print(\"Costo: \", cost)\n",
    "\n",
    "X = np.array([ [0, 0, 1, 1], [0, 1, 0, 1]])\n",
    "\n",
    "A2, cache = forward_prop(X, initialize_parameters(2, 2, 1))\n",
    "\n",
    "print(\"A2: \", A2)\n",
    "print(\"Cache: \", cache)"
   ]
  }
 ],
 "metadata": {
  "kernelspec": {
   "display_name": "Python 3",
   "language": "python",
   "name": "python3"
  },
  "language_info": {
   "codemirror_mode": {
    "name": "ipython",
    "version": 3
   },
   "file_extension": ".py",
   "mimetype": "text/x-python",
   "name": "python",
   "nbconvert_exporter": "python",
   "pygments_lexer": "ipython3",
   "version": "3.11.3"
  },
  "orig_nbformat": 4
 },
 "nbformat": 4,
 "nbformat_minor": 2
}
